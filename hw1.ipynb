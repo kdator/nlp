{
 "cells": [
  {
   "cell_type": "markdown",
   "metadata": {},
   "source": [
    "# Глубинное обучение для текстовых данных, ФКН ВШЭ\n",
    "\n",
    "## Домашнее задание 1: Text Suggestion\n",
    "\n",
    "### Оценивание и штрафы\n",
    "\n",
    "Максимально допустимая оценка за работу — 10 баллов. Сдавать задание после жесткого дедлайна нельзя. При сдачи решения после мягкого дедлайна за каждый день просрочки снимается по одному баллу.\n",
    "\n",
    "Задание выполняется самостоятельно. «Похожие» решения считаются плагиатом и все задействованные студенты (в том числе те, у кого списали) не могут получить за него больше 0 баллов. Весь код должен быть написан самостоятельно. Чужим кодом для пользоваться запрещается даже с указанием ссылки на источник. В разумных рамках, конечно. Взять пару очевидных строчек кода для реализации какого-то небольшого функционала можно.\n",
    "\n",
    "Неэффективная реализация кода может негативно отразиться на оценке. Также оценка может быть снижена за плохо читаемый код. Все ответы должны сопровождаться кодом или комментариями о том, как они были получены.\n",
    "\n",
    "__Мягкий дедлайн: 24 нояб\n",
    "\n",
    "__Жесткий дедлайн: 27 нояб\n",
    "\n",
    "\n",
    "### О задании\n",
    "\n",
    "В этом задании вам предстоит реализовать систему, предлагающую удачное продолжение слова или нескольких следующих слов в режиме реального времени по типу тех, которые используются в телефонах, поисковой строке или приложении почты. Полученную систему вам нужно будет обернуть в пользовательский интерфейс с помощью библиотеки [reflex](https://github.com/reflex-dev/reflex), чтобы ей можно было удобно пользоваться, а так же, чтобы убедиться, что все работает как надо. В этот раз вам не придется обучать никаких моделей, мы ограничимся n-граммной генерацией.\n",
    "\n",
    "### Структура\n",
    "\n",
    "Это домашнее задание состоит из двух частей предположительно одинаковых по сложности. В первой вам нужно будет выполнить 5 заданий, по итогам которых вы получите минимально рабочее решение. А во второй, пользуясь тем, что вы уже сделали реализовать полноценную систему подсказки текста с пользовательским интерфейсом. Во второй части мы никак не будем ограничивать вашу фантазию. Делайте что угодно, лишь бы получилось в результате получился удобный фреймворк. Чем лучше у вас будет результат, тем больше баллов вы получите. Если будет совсем хорошо, то мы добавим бонусов сверху по своему усмотрению.\n",
    "\n",
    "### Оценивание\n",
    "При сдаче зададания в anytask вам будет необходимо сдать весь код, а также отчет с подробным описанием техник, которые в применили для создания вашей системы. Не лишним будет также написать и о том, что у вас не получилось и почему.\n",
    "\n",
    "За часть с заданиями можно будет получить до __5__ баллов, за отчет – до __3__ баллов, 2 балл за доп вопросы, если возникнут, если вопросов не возникло, считаем, что 2 балла вы получили "
   ]
  },
  {
   "cell_type": "markdown",
   "metadata": {},
   "source": [
    "## Часть 1"
   ]
  },
  {
   "cell_type": "markdown",
   "metadata": {},
   "source": [
    "### Данные\n",
    "\n",
    "Для получения текстовых статистик используйте датасет `emails.csv`. Вы можете найти его по [ссылке](https://disk.yandex.ru/d/ikyUhWPlvfXxCg). Он содержит более 500 тысяч электронных писем на английском языке."
   ]
  },
  {
   "cell_type": "code",
   "execution_count": 1,
   "metadata": {},
   "outputs": [
    {
     "data": {
      "text/plain": [
       "517401"
      ]
     },
     "execution_count": 1,
     "metadata": {},
     "output_type": "execute_result"
    }
   ],
   "source": [
    "import pandas as pd\n",
    "import re\n",
    "\n",
    "pd.set_option('display.max_colwidth', 100000)\n",
    "\n",
    "emails = pd.read_csv('emails.csv')\n",
    "len(emails)"
   ]
  },
  {
   "cell_type": "code",
   "execution_count": 2,
   "metadata": {},
   "outputs": [
    {
     "data": {
      "text/html": [
       "<div>\n",
       "<style scoped>\n",
       "    .dataframe tbody tr th:only-of-type {\n",
       "        vertical-align: middle;\n",
       "    }\n",
       "\n",
       "    .dataframe tbody tr th {\n",
       "        vertical-align: top;\n",
       "    }\n",
       "\n",
       "    .dataframe thead th {\n",
       "        text-align: right;\n",
       "    }\n",
       "</style>\n",
       "<table border=\"1\" class=\"dataframe\">\n",
       "  <thead>\n",
       "    <tr style=\"text-align: right;\">\n",
       "      <th></th>\n",
       "      <th>file</th>\n",
       "      <th>message</th>\n",
       "    </tr>\n",
       "  </thead>\n",
       "  <tbody>\n",
       "    <tr>\n",
       "      <th>490876</th>\n",
       "      <td>tycholiz-b/inbox/575.</td>\n",
       "      <td>Message-ID: &lt;24824667.1075861184658.JavaMail.evans@thyme&gt;\\nDate: Mon, 19 Nov 2001 12:40:57 -0800 (PST)\\nFrom: karen.buckley@enron.com\\nTo: mike.curry@enron.com, david.forster@enron.com, heather.kroll@enron.com, \\n\\tfred.lagrasta@enron.com, laura.luce@enron.com, jean.mrha@enron.com, \\n\\tbrian.redmond@enron.com, carl.tricoli@enron.com, \\n\\tbarry.tycholiz@enron.com, frank.vickers@enron.com\\nSubject: Origination Track - Interviews Wednesday 28th.\\nCc: louise.kitchen@enron.com, terry.peng@enron.com\\nMime-Version: 1.0\\nContent-Type: text/plain; charset=us-ascii\\nContent-Transfer-Encoding: 7bit\\nBcc: louise.kitchen@enron.com, terry.peng@enron.com\\nX-From: Buckley, Karen &lt;/O=ENRON/OU=NA/CN=RECIPIENTS/CN=KBUCKLEY&gt;\\nX-To: Curry, Mike &lt;/O=ENRON/OU=NA/CN=RECIPIENTS/CN=Mcurry&gt;, Forster, David &lt;/O=ENRON/OU=NA/CN=RECIPIENTS/CN=DFORSTER&gt;, Kroll, Heather &lt;/O=ENRON/OU=NA/CN=RECIPIENTS/CN=Hkroll&gt;, Lagrasta, Fred &lt;/O=ENRON/OU=NA/CN=RECIPIENTS/CN=Flagras&gt;, Luce, Laura &lt;/O=ENRON/OU=NA/CN=RECIPIENTS/CN=Lluce&gt;, Mrha, Jean &lt;/O=ENRON/OU=NA/CN=RECIPIENTS/CN=Jmrha&gt;, Redmond, Brian &lt;/O=ENRON/OU=NA/CN=RECIPIENTS/CN=Bredmon&gt;, Tricoli, Carl &lt;/O=ENRON/OU=NA/CN=RECIPIENTS/CN=Ctricol&gt;, Tycholiz, Barry &lt;/O=ENRON/OU=NA/CN=RECIPIENTS/CN=Btychol&gt;, Vickers, Frank &lt;/O=ENRON/OU=NA/CN=RECIPIENTS/CN=Fvicker&gt;\\nX-cc: Kitchen, Louise &lt;/O=ENRON/OU=NA/CN=RECIPIENTS/CN=Lkitchen&gt;, Peng, Terry &lt;/O=ENRON/OU=NA/CN=RECIPIENTS/CN=Tpeng&gt;\\nX-bcc: \\nX-Folder: \\BTYCHOL (Non-Privileged)\\Tycholiz, Barry\\Inbox\\nX-Origin: Tycholiz-B\\nX-FileName: BTYCHOL (Non-Privileged).pst\\n\\nAll,\\n \\n \\nBelow are the confirmed list of names to be interviewed for the Origination Track, Wednesday, 28th November.     (there are a possibility of a further 3 candidates).\\n \\nAll of you are confirmed to interview, however I require another 4/5 interviewers (Manager/director level) to ensure all candidates are interviewed by 5 originators.   Pls advise who from your groups can facilitate interviewing.\\n \\nInterview schedules/resumes will be sent to you early next week.\\n \\nI look forward to hearing from you. \\n \\nRegards,\\n \\nKaren Buckley&lt;?xml:namespace prefix = o ns = \"urn:schemas-microsoft-com:office:office\" /&gt;\\n\\nHuman Resources\\n\\nTel: 713 345 4667\\n\\n \\n \\n \\nFIRST\\t LAST\\t EXTENSION\\t MANAGER\\t GROUP\\t LEVEL\\t\\nAdam\\t Bayer\\t 35227\\t Christopher Gaskill\\t ENA Fundamental Analysis\\t Analyst\\t\\nHarry\\t Bucalo\\t 39196\\t Mark Russ\\t EBS Voice minutes\\t Associate\\t\\nBart\\t Burk\\t 53635\\t Christopher Gaskill\\t ENA Fundamental Analysis\\t Analyst\\t\\nCatalina\\t Cardenas\\t 53650\\t Christopher Gaskill\\t ENA Fundamental Analysis\\t Analyst\\t\\nMarcus\\t Edmonds\\t 34243\\t Lisa Bills\\t ENA Treasury &amp; Funding\\t Analyst\\t\\nAndrea \\tGonzalez\\t 58128\\t Carl Tricoli\\t ENA Generation Investments\\t Associate\\t\\nRyan \\tHinze\\t 58358\\t Christopher Higert\\t ENA Compression Services\\t Analyst\\t\\nDaniel\\t Jenkins\\t 53398\\t Rika Imai\\t ENA Fundamental Analysis\\t Analyst\\t\\nJohn\\t Lang\\t 39947\\t Charles Vetters\\t ENA Generation Investments\\t Analyst\\t\\nJimmy\\t Marks\\t 53656\\t Mitchell Robinson\\t ENA Generation Investments\\t Analyst\\t\\nMaurico\\t Marquez\\t 36161\\t Rika Imai\\t ENA Fundamental Analysis\\t Associate\\t\\nMichael \\tOlsen\\t 35796\\t Jerry Farmer\\t ENW Energy Ops Texas Logistics\\t Analyst\\t\\nJustin\\t O'Malley\\t 58934\\t Christopher Gaskill\\t ENA Fundamental Analysis\\t Analyst\\t\\nLauren\\t Schlesinger\\t 53268\\t Christopher Gaskill\\t ENA Fundamental Analysis\\t Analyst\\t\\nKyle\\t Simson\\t 39950\\t Christopher Harman\\t EBS Trading Real Estate\\t Sr Specialist\\t\\n\\n \\n\\n \\n\\n \\n\\n \\n\\n \\n\\n</td>\n",
       "    </tr>\n",
       "  </tbody>\n",
       "</table>\n",
       "</div>"
      ],
      "text/plain": [
       "                         file  \\\n",
       "490876  tycholiz-b/inbox/575.   \n",
       "\n",
       "                                                                                                                                                                                                                                                                                                                                                                                                                                                                                                                                                                                                                                                                                                                                                                                                                                                                                                                                                                                                                                                                                                                                                                                                                                                                                                                                                                                                                                                                                                                                                                                                                                                                                                                                                                                                                                                                                                                                                                                                                                                                                                                                                                                                                                                                                                                                                                                                                                                                                                                                                                                                                                                                                                                                                                                                                                                                                                                                                                                                                                                                                                                                                                                                                                                                                                                                                                                                                                                                                                                                                                                                                                                                                        message  \n",
       "490876  Message-ID: <24824667.1075861184658.JavaMail.evans@thyme>\\nDate: Mon, 19 Nov 2001 12:40:57 -0800 (PST)\\nFrom: karen.buckley@enron.com\\nTo: mike.curry@enron.com, david.forster@enron.com, heather.kroll@enron.com, \\n\\tfred.lagrasta@enron.com, laura.luce@enron.com, jean.mrha@enron.com, \\n\\tbrian.redmond@enron.com, carl.tricoli@enron.com, \\n\\tbarry.tycholiz@enron.com, frank.vickers@enron.com\\nSubject: Origination Track - Interviews Wednesday 28th.\\nCc: louise.kitchen@enron.com, terry.peng@enron.com\\nMime-Version: 1.0\\nContent-Type: text/plain; charset=us-ascii\\nContent-Transfer-Encoding: 7bit\\nBcc: louise.kitchen@enron.com, terry.peng@enron.com\\nX-From: Buckley, Karen </O=ENRON/OU=NA/CN=RECIPIENTS/CN=KBUCKLEY>\\nX-To: Curry, Mike </O=ENRON/OU=NA/CN=RECIPIENTS/CN=Mcurry>, Forster, David </O=ENRON/OU=NA/CN=RECIPIENTS/CN=DFORSTER>, Kroll, Heather </O=ENRON/OU=NA/CN=RECIPIENTS/CN=Hkroll>, Lagrasta, Fred </O=ENRON/OU=NA/CN=RECIPIENTS/CN=Flagras>, Luce, Laura </O=ENRON/OU=NA/CN=RECIPIENTS/CN=Lluce>, Mrha, Jean </O=ENRON/OU=NA/CN=RECIPIENTS/CN=Jmrha>, Redmond, Brian </O=ENRON/OU=NA/CN=RECIPIENTS/CN=Bredmon>, Tricoli, Carl </O=ENRON/OU=NA/CN=RECIPIENTS/CN=Ctricol>, Tycholiz, Barry </O=ENRON/OU=NA/CN=RECIPIENTS/CN=Btychol>, Vickers, Frank </O=ENRON/OU=NA/CN=RECIPIENTS/CN=Fvicker>\\nX-cc: Kitchen, Louise </O=ENRON/OU=NA/CN=RECIPIENTS/CN=Lkitchen>, Peng, Terry </O=ENRON/OU=NA/CN=RECIPIENTS/CN=Tpeng>\\nX-bcc: \\nX-Folder: \\BTYCHOL (Non-Privileged)\\Tycholiz, Barry\\Inbox\\nX-Origin: Tycholiz-B\\nX-FileName: BTYCHOL (Non-Privileged).pst\\n\\nAll,\\n \\n \\nBelow are the confirmed list of names to be interviewed for the Origination Track, Wednesday, 28th November.     (there are a possibility of a further 3 candidates).\\n \\nAll of you are confirmed to interview, however I require another 4/5 interviewers (Manager/director level) to ensure all candidates are interviewed by 5 originators.   Pls advise who from your groups can facilitate interviewing.\\n \\nInterview schedules/resumes will be sent to you early next week.\\n \\nI look forward to hearing from you. \\n \\nRegards,\\n \\nKaren Buckley<?xml:namespace prefix = o ns = \"urn:schemas-microsoft-com:office:office\" />\\n\\nHuman Resources\\n\\nTel: 713 345 4667\\n\\n \\n \\n \\nFIRST\\t LAST\\t EXTENSION\\t MANAGER\\t GROUP\\t LEVEL\\t\\nAdam\\t Bayer\\t 35227\\t Christopher Gaskill\\t ENA Fundamental Analysis\\t Analyst\\t\\nHarry\\t Bucalo\\t 39196\\t Mark Russ\\t EBS Voice minutes\\t Associate\\t\\nBart\\t Burk\\t 53635\\t Christopher Gaskill\\t ENA Fundamental Analysis\\t Analyst\\t\\nCatalina\\t Cardenas\\t 53650\\t Christopher Gaskill\\t ENA Fundamental Analysis\\t Analyst\\t\\nMarcus\\t Edmonds\\t 34243\\t Lisa Bills\\t ENA Treasury & Funding\\t Analyst\\t\\nAndrea \\tGonzalez\\t 58128\\t Carl Tricoli\\t ENA Generation Investments\\t Associate\\t\\nRyan \\tHinze\\t 58358\\t Christopher Higert\\t ENA Compression Services\\t Analyst\\t\\nDaniel\\t Jenkins\\t 53398\\t Rika Imai\\t ENA Fundamental Analysis\\t Analyst\\t\\nJohn\\t Lang\\t 39947\\t Charles Vetters\\t ENA Generation Investments\\t Analyst\\t\\nJimmy\\t Marks\\t 53656\\t Mitchell Robinson\\t ENA Generation Investments\\t Analyst\\t\\nMaurico\\t Marquez\\t 36161\\t Rika Imai\\t ENA Fundamental Analysis\\t Associate\\t\\nMichael \\tOlsen\\t 35796\\t Jerry Farmer\\t ENW Energy Ops Texas Logistics\\t Analyst\\t\\nJustin\\t O'Malley\\t 58934\\t Christopher Gaskill\\t ENA Fundamental Analysis\\t Analyst\\t\\nLauren\\t Schlesinger\\t 53268\\t Christopher Gaskill\\t ENA Fundamental Analysis\\t Analyst\\t\\nKyle\\t Simson\\t 39950\\t Christopher Harman\\t EBS Trading Real Estate\\t Sr Specialist\\t\\n\\n \\n\\n \\n\\n \\n\\n \\n\\n \\n\\n   "
      ]
     },
     "execution_count": 2,
     "metadata": {},
     "output_type": "execute_result"
    }
   ],
   "source": [
    "emails.sample()"
   ]
  },
  {
   "cell_type": "markdown",
   "metadata": {},
   "source": [
    "Заметьте, что данные очень грязные. В каждом письме содержится различная мета-информация, которая будет только мешать при предсказании продолжения текста.\n",
    "\n",
    "__Задание 1 (1 балл).__ Очистите корпус текстов по вашему усмотрению. В идеале обработанные тексты должны содержать только текст самого письма и ничего лишнего по типу ссылок, адресатов и прочих символов, которыми мы точно не хотим продолжать текст. Оценка будет выставляться по близости вашего результата к этому идеалу."
   ]
  },
  {
   "cell_type": "code",
   "execution_count": 3,
   "metadata": {},
   "outputs": [],
   "source": [
    "# достали везде HTTP Body\n",
    "emails['message'] = emails.message.str.extract(r\"\\n\\n(.*)\", flags=re.DOTALL)"
   ]
  },
  {
   "cell_type": "code",
   "execution_count": 4,
   "metadata": {},
   "outputs": [
    {
     "name": "stderr",
     "output_type": "stream",
     "text": [
      "/var/folders/6w/m0f3kdj936z8dc656nxnyt_c0000gq/T/ipykernel_98613/211835742.py:1: FutureWarning: A value is trying to be set on a copy of a DataFrame or Series through chained assignment using an inplace method.\n",
      "The behavior will change in pandas 3.0. This inplace method will never work because the intermediate object on which we are setting values always behaves as a copy.\n",
      "\n",
      "For example, when doing 'df[col].method(value, inplace=True)', try using 'df.method({col: value}, inplace=True)' or df[col] = df[col].method(value) instead, to perform the operation inplace on the original object.\n",
      "\n",
      "\n",
      "  emails['message'].replace(\n"
     ]
    }
   ],
   "source": [
    "emails['message'].replace(\n",
    "    {\n",
    "        r\"(?i)(from|to|subject|date|sent|mime-version|content-type|cc):.*\\n\": \"\",\n",
    "        r\"[-=]+.*\\n\": \"\",\n",
    "        r'<.*?>': \"\",\n",
    "        r\"[*]+\": \"\",\n",
    "        r'\\s+': \" \",\n",
    "        r'https?://\\S+|www\\.\\S+': \"\",\n",
    "        r'[a-zA-Z0-9._%+-]+@[a-zA-Z0-9.-]+\\.[a-zA-Z]{2,}': \"\",\n",
    "        r'[^\\w\\s]': \"\"\n",
    "    }, \n",
    "    inplace=True,\n",
    "    regex=True\n",
    ")"
   ]
  },
  {
   "cell_type": "code",
   "execution_count": 5,
   "metadata": {},
   "outputs": [
    {
     "data": {
      "text/html": [
       "<div>\n",
       "<style scoped>\n",
       "    .dataframe tbody tr th:only-of-type {\n",
       "        vertical-align: middle;\n",
       "    }\n",
       "\n",
       "    .dataframe tbody tr th {\n",
       "        vertical-align: top;\n",
       "    }\n",
       "\n",
       "    .dataframe thead th {\n",
       "        text-align: right;\n",
       "    }\n",
       "</style>\n",
       "<table border=\"1\" class=\"dataframe\">\n",
       "  <thead>\n",
       "    <tr style=\"text-align: right;\">\n",
       "      <th></th>\n",
       "      <th>file</th>\n",
       "      <th>message</th>\n",
       "    </tr>\n",
       "  </thead>\n",
       "  <tbody>\n",
       "    <tr>\n",
       "      <th>9901</th>\n",
       "      <td>bailey-s/deleted_items/89.</td>\n",
       "      <td>Ok And regarding the Risk Management dealsI forget what we decidedwhat begin date do you want on the querydeals from 12101 forward or was in sometime in November Diane Thanks for confirming that the trades were with ECTRIC and not ENA Yes Thanks Susan Susan I only see two and there were both done with ECTINTL Do you want to see those Diane or Patrick Please email or provide hard copies of the Confirmations ENA has with the captioned counterparty Thanks Cordially Susan S Bailey Enron North America Corp 1400 Smith Street Suite 3803A Houston Texas 77002 Phone 713 853Fax 713 646Email</td>\n",
       "    </tr>\n",
       "    <tr>\n",
       "      <th>300358</th>\n",
       "      <td>mann-k/_sent_mail/1883.</td>\n",
       "      <td>I just noticed that I forgot to send you the originals of the letteragreements I will have the ABB contract picked up at the same time Thanks Kay Campbell Carolyn on 01252001 084738 AM Kay I will send over these documents today Will you send over you execution copy of the letter agreements as I need to replace the front pages of those agreements with the new pages which were renegotiated and initialed at closing Thanks Carolyn M Campbell  mail ABB is asking for its original of the facility agreement In fact I need to get originals of the ABB and GE facility agreements to ABB and GE When can I get those docs Thanks Kay Confidentiality Notice This message is being sent by or on behalf of a lawyer It is intendedexclusively for the individual or entity to which it is addressed Thiscommunication may contain information that is proprietary privileged orconfidential or otherwise legally exempt from disclosure If you are not thenamed addressee you are not authorized to read print retain copy ordisseminate this message or any part of it If you have received thismessage in error please notify the sender immediately by eall copies of the message</td>\n",
       "    </tr>\n",
       "    <tr>\n",
       "      <th>373401</th>\n",
       "      <td>rodrique-r/discussion_threads/121.</td>\n",
       "      <td>Hi Robin Heres the TXT file Have a good night Brian</td>\n",
       "    </tr>\n",
       "    <tr>\n",
       "      <th>485414</th>\n",
       "      <td>taylor-m/sent/485.</td>\n",
       "      <td>092399 1254 PM Anita Fam 090699 0936 PM Matthew NimmoLONECTECT Tim PoullainJugginsLONECT Matthew LandyLONECT Kevin SweeneyHOUECTECT Kevin BeasleyLONECTECT Janice MooreHOUECT Michael A RobisonHOUECTECT Harry M CollinsHOUECTECT Nony FloresHOUECTECT Joya DavisHOUECT Mark BrownENRON_DEVELOPMENTENRON_DEVELOPMENT David A TerlipENRON_DEVELOPMENTENRON_DEVELOPMENT Manuel GallegoENRON_DEVELOPMENTENRON_DEVELOPMENT Victor SantosENRON_DEVELOPMENTENRON_DEVELOPMENT Bruce LundstromENRON_DEVELOPMENTENRON_DEVELOPMENT Angel M EsguerraSINECT Darrell W KinderENRON_DEVELOPMENT Clement AbramsENRON Stephen H DouglasHOUECTECT Joong All Just to let you know a new attorney has joined Lonesome Ole Me here in Singapore as of yesterday His name is Matthias Lee and he will be providing the support for the physical and financial trading side of things here in Singapore as well as any general support which the folks here in Singapore may require if they pertain to Singapore law issues For your info Matt will be reporting to Alan Aronowitz Thanks Anita</td>\n",
       "    </tr>\n",
       "    <tr>\n",
       "      <th>464730</th>\n",
       "      <td>symes-k/all_documents/2934.</td>\n",
       "      <td>Bobs at lunch right now out this afternoon Thanks for the reminder Kate Melissa Ann Murphy 03292001 1113 AM Hello I hate to bug you with this Whenever you can spare a second would you ask Bob about this I am afraid it is going to slip through the cracks Thanks for your help Melissa 1207 PM Melissa Ann Murphy 03262001 1034 AM Hi Bob I was wondering if you have contacted Constellation about the 6 trades that are in the system with the Cal Px as the index price All of these trades start flowing in July of this year The deal numbers are as follows 45315201 45317501 45329401 46210901 47188801 47188901 Let me know if Constellation agrees to change these deals to the Dow Jones so I can send a letter for them to sign Thanks Melissa</td>\n",
       "    </tr>\n",
       "    <tr>\n",
       "      <th>376150</th>\n",
       "      <td>rogers-b/all_documents/1658.</td>\n",
       "      <td>Ben Here is the model If you want to load up new curves or run sensiitivities youll need an add in call me Yvan Benjamin RogersECT 03162000 0637 PM Could eBen</td>\n",
       "    </tr>\n",
       "    <tr>\n",
       "      <th>67481</th>\n",
       "      <td>dasovich-j/deleted_items/131.</td>\n",
       "      <td>For 10 am PDT call It would be surprising if the Commission did what SDGE is suggesting From a strictly legal perspective it is unlikely that the Commission would vote to suspend direct access retroactively Although an argument could be put forward that the Commission has the authority to do so such an act could be challenged on US Constitutional grounds as being violative of the Contracts Clause Moreover from a practical perspective retroactive suspension would be politically unpalatable and cause a good deal of protest from affected parties However the Commission might choose to so regardless of these factors due to political pressure from Sacramento to ensure the saleability of the power revenue bonds The Commission has frequently reserved to itself the power to modify existing contracts particularly those entered into by utilities subject to its jurisdiction It has exercised this right often using as justification wording contained in utility contracts that make the agreements subject to the Commissions continuing jurisdiction including such modifications as it may direct For example the standard ESP Service Agreement used by all three of the states electric utilities provides that This Agreement may be subject to such changes or modifications as the CPUC may from time to time direct or necessitate in the exercise of its jurisdiction and the Parties may amend the Agreement to conform to changes directed or necessitated by the CPUC This phraseology is typically referred to by the states utilities as a regulatory out clause However this sort of wording has not been required to be included in the contracts entered into by ESPs as the Commission does not regulate these entities ESPs that plan to offer electric services to residential and small commercial customers must fulfill certain registration requirements as adopted by the Commission in Decisions D 99 The absence of a regulatory out clause would make Commission efforts to modify retroactively contracts entered into between ESPs and their customers extremely suspect This is due to the fact that such action could be seen as violative of Section 10 of Article I of the United States Constitution It provides in part that No State shall    pass any Bill of Attainder ex post facto Law or Law impairing the Obligation of Contracts    Emphasis added Under the Supreme Courts Contracts Clause jurisprudence the threshold inquiry is whether the state law has in fact operated as a substantial impairment of a contractual relationship Allied Structural Steel Co v Spannaus 438 US 234 244 1978 This inquiry has three components whether there is a contractual relationship whether a change in law impairs that contractual relationship and whether the impairment is substantial General Motors Corporation v Romein 503 US 181 186 1992 The Contracts Clause only applies to contracts that exist at the time of the laws passage Also the Contracts Clause has been deemed to apply both to legislation or other government action but not to court decisions The judiciary has the power to invalidate a contract without violating the Contracts Clause See Tidal Oil v Flanagan 263 US 444 1924 In a case involving a private contract the law or governmental action must substantially impair a pre This is probably far more than you wanted to knowjust wanted to give a quick overview on the subject Bottom line CPUC would be dumb to suspend retroactively at least from a legal perspective On the other hand when has brilliance been a hallmark of recent decisions from this Commission Dan Law Offices of Daniel W Douglass 5959 Topanga Canyon Blvd Suite 244 Woodland Hills CA 91367 Tel 818 596Fax 818  mail  All   SDGE is sending the following message to customers  The California Public Utilities Commission is now expected to make a  decision at their September 6 meeting regarding suspension of direct access  This decision could be retroactive to September 1 2001  Based on this information if you are considering a contract with an energy  service provider for your electric commodity the contract would need to be  signed by August 31 2001   What do you all think about this What SDGE is saying is inconsistent with  the intent of the statement made in the most recent ALJ Barnett Resolution  which states In the interest of fairness written contracts for direct  access signed before Sept 1 2001 are exempt from suspension The intent  here being that the CPUC will make a prospective ruling in the interest of  fairness  I would appreciate any thoughts on this Thank you    Andrea Weller  Market Strategist  Strategic Energy LLC  9492303404</td>\n",
       "    </tr>\n",
       "    <tr>\n",
       "      <th>35368</th>\n",
       "      <td>blair-l/meetings/917.</td>\n",
       "      <td>CALENDAR ENTRY APPOINTMENT Description Randy B to meet in Lynns office Time 200 PM Chairperson Outlook Migration Team Detailed Description</td>\n",
       "    </tr>\n",
       "    <tr>\n",
       "      <th>345783</th>\n",
       "      <td>nemec-g/all_documents/4424.</td>\n",
       "      <td>Please review the attached term sheet terms I need to send to them ASAP pushing to get closure by 1227 so TIME IS OF THE ESSENCE Thanks</td>\n",
       "    </tr>\n",
       "    <tr>\n",
       "      <th>339640</th>\n",
       "      <td>mims-thurston-p/deleted_items/98.</td>\n",
       "      <td>IMAGE Bargain Newsletter IMAGE BargainDog Info  Unsubscribe IMAGEIMAGE Patrice Todays BargainDog newsletter features great bargains from uBid CandleMart Textileshop and PrintPal IMAGE MonthSony Minidisc new wwarranty as low as 81 Desktops new wwarranty as low as 469 Become a uBid member today and win one of the 1000s of name brand products starting at just 9 Start bidding and winning today uBid IMAGE Save 50 on HeartE Melt the Heart of your Sweetheart A Great Gift for the one you love Hurry sale ends soon More great Buy 1 Get 1 Free offers available at Candlemartcom CandleMart IMAGE Starting at 199onsized towels and a huge bath sheet Add a touch of elegance to any bathroom with a unique woven band Choose from a variety of exciting colors that match any decor starting at 199 while supplies last Textileshop IMAGE Printer Cartridges  Laser Toners PrintPals normal prices save you up to 80 on inkjet cartridges  laser printer toners Now save even more with an additional 10 off coupon Free Priority shipping on all orders over 40 quality and selection PrintPal IMAGE Subscription Information IMAGE You are subscribed to BargainDog as  To unsubscribe please click here Please note that it may take a few days for your request to be processed This eBargainDog is not responsible for the offer presented by the advertiser and makes no guarantees in connection with the product or service BargainDog respects your privacy and is a member of TRUSTe To see our privacy policy click here For questions suggestions or comments regarding BargainDog please e IMAGE</td>\n",
       "    </tr>\n",
       "  </tbody>\n",
       "</table>\n",
       "</div>"
      ],
      "text/plain": [
       "                                      file  \\\n",
       "9901            bailey-s/deleted_items/89.   \n",
       "300358             mann-k/_sent_mail/1883.   \n",
       "373401  rodrique-r/discussion_threads/121.   \n",
       "485414                  taylor-m/sent/485.   \n",
       "464730         symes-k/all_documents/2934.   \n",
       "376150        rogers-b/all_documents/1658.   \n",
       "67481        dasovich-j/deleted_items/131.   \n",
       "35368                blair-l/meetings/917.   \n",
       "345783         nemec-g/all_documents/4424.   \n",
       "339640   mims-thurston-p/deleted_items/98.   \n",
       "\n",
       "                                                                                                                                                                                                                                                                                                                                                                                                                                                                                                                                                                                                                                                                                                                                                                                                                                                                                                                                                                                                                                                                                                                                                                                                                                                                                                                                                                                                                                                                                                                                                                                                                                                                                                                                                                                                                                                                                                                                                                                                                                                                                                                                                                                                                                                                                                                                                                                                                                                                                                                                                                                                                                                                                                                                                                                                                                                                                                                                                                                                                                                                                                                                                                                                                                                                                                                                                                                                                                                                                                                                                                                                                                                                                                                                                                                                                                                                                                                                                                                                                                                                                                                                                                                                                                                                                                                                                                                                                                                                                                                                                                                                                                                                                                                                                                                                       message  \n",
       "9901                                                                                                                                                                                                                                                                                                                                                                                                                                                                                                                                                                                                                                                                                                                                                                                                                                                                                                                                                                                                                                                                                                                                                                                                                                                                                                                                                                                                                                                                                                                                                                                                                                                                                                                                                                                                                                                                                                                                                                                                                                                                                                                                                                                                                                                                                                                                                                                                                                                                                                                                                                                                                                                                                                                                                                                                                                                                                                                                                                                                                                                                                                                                                                                                                                                                                                                                                                                                                                                                                                                                                                                                                                                                                                                                                                                                                                                                                                                                                                                                                                                                                                                                                                                               Ok And regarding the Risk Management dealsI forget what we decidedwhat begin date do you want on the querydeals from 12101 forward or was in sometime in November Diane Thanks for confirming that the trades were with ECTRIC and not ENA Yes Thanks Susan Susan I only see two and there were both done with ECTINTL Do you want to see those Diane or Patrick Please email or provide hard copies of the Confirmations ENA has with the captioned counterparty Thanks Cordially Susan S Bailey Enron North America Corp 1400 Smith Street Suite 3803A Houston Texas 77002 Phone 713 853Fax 713 646Email   \n",
       "300358                                                                                                                                                                                                                                                                                                                                                                                                                                                                                                                                                                                                                                                                                                                                                                                                                                                                                                                                                                                                                                                                                                                                                                                                                                                                                                                                                                                                                                                                                                                                                                                                                                                                                                                                                                                                                                                                                                                                                                                                                                                                                                                                                                                                                                                                                                                                                                                                                                                                                                                                                                                                                                                                                                                                                                                                                                                                                                                                                                                                                                                                                                                                                                                                                                                                                                                                                                                                                                                                                                                                                                                                       I just noticed that I forgot to send you the originals of the letteragreements I will have the ABB contract picked up at the same time Thanks Kay Campbell Carolyn on 01252001 084738 AM Kay I will send over these documents today Will you send over you execution copy of the letter agreements as I need to replace the front pages of those agreements with the new pages which were renegotiated and initialed at closing Thanks Carolyn M Campbell  mail ABB is asking for its original of the facility agreement In fact I need to get originals of the ABB and GE facility agreements to ABB and GE When can I get those docs Thanks Kay Confidentiality Notice This message is being sent by or on behalf of a lawyer It is intendedexclusively for the individual or entity to which it is addressed Thiscommunication may contain information that is proprietary privileged orconfidential or otherwise legally exempt from disclosure If you are not thenamed addressee you are not authorized to read print retain copy ordisseminate this message or any part of it If you have received thismessage in error please notify the sender immediately by eall copies of the message   \n",
       "373401                                                                                                                                                                                                                                                                                                                                                                                                                                                                                                                                                                                                                                                                                                                                                                                                                                                                                                                                                                                                                                                                                                                                                                                                                                                                                                                                                                                                                                                                                                                                                                                                                                                                                                                                                                                                                                                                                                                                                                                                                                                                                                                                                                                                                                                                                                                                                                                                                                                                                                                                                                                                                                                                                                                                                                                                                                                                                                                                                                                                                                                                                                                                                                                                                                                                                                                                                                                                                                                                                                                                                                                                                                                                                                                                                                                                                                                                                                                                                                                                                                                                                                                                                                                                                                                                                                                                                                                                                                                                                                                                                                                                                                                                                                                                                     Hi Robin Heres the TXT file Have a good night Brian  \n",
       "485414                                                                                                                                                                                                                                                                                                                                                                                                                                                                                                                                                                                                                                                                                                                                                                                                                                                                                                                                                                                                                                                                                                                                                                                                                                                                                                                                                                                                                                                                                                                                                                                                                                                                                                                                                                                                                                                                                                                                                                                                                                                                                                                                                                                                                                                                                                                                                                                                                                                                                                                                                                                                                                                                                                                                                                                                                                                                                                                                                                                                                                                                                                                                                                                                                                                                                                                                                                                                                                                                                                                                                                                                                                                                                                                             092399 1254 PM Anita Fam 090699 0936 PM Matthew NimmoLONECTECT Tim PoullainJugginsLONECT Matthew LandyLONECT Kevin SweeneyHOUECTECT Kevin BeasleyLONECTECT Janice MooreHOUECT Michael A RobisonHOUECTECT Harry M CollinsHOUECTECT Nony FloresHOUECTECT Joya DavisHOUECT Mark BrownENRON_DEVELOPMENTENRON_DEVELOPMENT David A TerlipENRON_DEVELOPMENTENRON_DEVELOPMENT Manuel GallegoENRON_DEVELOPMENTENRON_DEVELOPMENT Victor SantosENRON_DEVELOPMENTENRON_DEVELOPMENT Bruce LundstromENRON_DEVELOPMENTENRON_DEVELOPMENT Angel M EsguerraSINECT Darrell W KinderENRON_DEVELOPMENT Clement AbramsENRON Stephen H DouglasHOUECTECT Joong All Just to let you know a new attorney has joined Lonesome Ole Me here in Singapore as of yesterday His name is Matthias Lee and he will be providing the support for the physical and financial trading side of things here in Singapore as well as any general support which the folks here in Singapore may require if they pertain to Singapore law issues For your info Matt will be reporting to Alan Aronowitz Thanks Anita   \n",
       "464730                                                                                                                                                                                                                                                                                                                                                                                                                                                                                                                                                                                                                                                                                                                                                                                                                                                                                                                                                                                                                                                                                                                                                                                                                                                                                                                                                                                                                                                                                                                                                                                                                                                                                                                                                                                                                                                                                                                                                                                                                                                                                                                                                                                                                                                                                                                                                                                                                                                                                                                                                                                                                                                                                                                                                                                                                                                                                                                                                                                                                                                                                                                                                                                                                                                                                                                                                                                                                                                                                                                                                                                                                                                                                                                                                                                                                                                                                                                                                                                                                                          Bobs at lunch right now out this afternoon Thanks for the reminder Kate Melissa Ann Murphy 03292001 1113 AM Hello I hate to bug you with this Whenever you can spare a second would you ask Bob about this I am afraid it is going to slip through the cracks Thanks for your help Melissa 1207 PM Melissa Ann Murphy 03262001 1034 AM Hi Bob I was wondering if you have contacted Constellation about the 6 trades that are in the system with the Cal Px as the index price All of these trades start flowing in July of this year The deal numbers are as follows 45315201 45317501 45329401 46210901 47188801 47188901 Let me know if Constellation agrees to change these deals to the Dow Jones so I can send a letter for them to sign Thanks Melissa   \n",
       "376150                                                                                                                                                                                                                                                                                                                                                                                                                                                                                                                                                                                                                                                                                                                                                                                                                                                                                                                                                                                                                                                                                                                                                                                                                                                                                                                                                                                                                                                                                                                                                                                                                                                                                                                                                                                                                                                                                                                                                                                                                                                                                                                                                                                                                                                                                                                                                                                                                                                                                                                                                                                                                                                                                                                                                                                                                                                                                                                                                                                                                                                                                                                                                                                                                                                                                                                                                                                                                                                                                                                                                                                                                                                                                                                                                                                                                                                                                                                                                                                                                                                                                                                                                                                                                                                                                                                                                                                                                                                                                                                                                                                                                                         Ben Here is the model If you want to load up new curves or run sensiitivities youll need an add in call me Yvan Benjamin RogersECT 03162000 0637 PM Could eBen   \n",
       "67481   For 10 am PDT call It would be surprising if the Commission did what SDGE is suggesting From a strictly legal perspective it is unlikely that the Commission would vote to suspend direct access retroactively Although an argument could be put forward that the Commission has the authority to do so such an act could be challenged on US Constitutional grounds as being violative of the Contracts Clause Moreover from a practical perspective retroactive suspension would be politically unpalatable and cause a good deal of protest from affected parties However the Commission might choose to so regardless of these factors due to political pressure from Sacramento to ensure the saleability of the power revenue bonds The Commission has frequently reserved to itself the power to modify existing contracts particularly those entered into by utilities subject to its jurisdiction It has exercised this right often using as justification wording contained in utility contracts that make the agreements subject to the Commissions continuing jurisdiction including such modifications as it may direct For example the standard ESP Service Agreement used by all three of the states electric utilities provides that This Agreement may be subject to such changes or modifications as the CPUC may from time to time direct or necessitate in the exercise of its jurisdiction and the Parties may amend the Agreement to conform to changes directed or necessitated by the CPUC This phraseology is typically referred to by the states utilities as a regulatory out clause However this sort of wording has not been required to be included in the contracts entered into by ESPs as the Commission does not regulate these entities ESPs that plan to offer electric services to residential and small commercial customers must fulfill certain registration requirements as adopted by the Commission in Decisions D 99 The absence of a regulatory out clause would make Commission efforts to modify retroactively contracts entered into between ESPs and their customers extremely suspect This is due to the fact that such action could be seen as violative of Section 10 of Article I of the United States Constitution It provides in part that No State shall    pass any Bill of Attainder ex post facto Law or Law impairing the Obligation of Contracts    Emphasis added Under the Supreme Courts Contracts Clause jurisprudence the threshold inquiry is whether the state law has in fact operated as a substantial impairment of a contractual relationship Allied Structural Steel Co v Spannaus 438 US 234 244 1978 This inquiry has three components whether there is a contractual relationship whether a change in law impairs that contractual relationship and whether the impairment is substantial General Motors Corporation v Romein 503 US 181 186 1992 The Contracts Clause only applies to contracts that exist at the time of the laws passage Also the Contracts Clause has been deemed to apply both to legislation or other government action but not to court decisions The judiciary has the power to invalidate a contract without violating the Contracts Clause See Tidal Oil v Flanagan 263 US 444 1924 In a case involving a private contract the law or governmental action must substantially impair a pre This is probably far more than you wanted to knowjust wanted to give a quick overview on the subject Bottom line CPUC would be dumb to suspend retroactively at least from a legal perspective On the other hand when has brilliance been a hallmark of recent decisions from this Commission Dan Law Offices of Daniel W Douglass 5959 Topanga Canyon Blvd Suite 244 Woodland Hills CA 91367 Tel 818 596Fax 818  mail  All   SDGE is sending the following message to customers  The California Public Utilities Commission is now expected to make a  decision at their September 6 meeting regarding suspension of direct access  This decision could be retroactive to September 1 2001  Based on this information if you are considering a contract with an energy  service provider for your electric commodity the contract would need to be  signed by August 31 2001   What do you all think about this What SDGE is saying is inconsistent with  the intent of the statement made in the most recent ALJ Barnett Resolution  which states In the interest of fairness written contracts for direct  access signed before Sept 1 2001 are exempt from suspension The intent  here being that the CPUC will make a prospective ruling in the interest of  fairness  I would appreciate any thoughts on this Thank you    Andrea Weller  Market Strategist  Strategic Energy LLC  9492303404     \n",
       "35368                                                                                                                                                                                                                                                                                                                                                                                                                                                                                                                                                                                                                                                                                                                                                                                                                                                                                                                                                                                                                                                                                                                                                                                                                                                                                                                                                                                                                                                                                                                                                                                                                                                                                                                                                                                                                                                                                                                                                                                                                                                                                                                                                                                                                                                                                                                                                                                                                                                                                                                                                                                                                                                                                                                                                                                                                                                                                                                                                                                                                                                                                                                                                                                                                                                                                                                                                                                                                                                                                                                                                                                                                                                                                                                                                                                                                                                                                                                                                                                                                                                                                                                                                                                                                                                                                                                                                                                                                                                                                                                                                                                                                                                               CALENDAR ENTRY APPOINTMENT Description Randy B to meet in Lynns office Time 200 PM Chairperson Outlook Migration Team Detailed Description  \n",
       "345783                                                                                                                                                                                                                                                                                                                                                                                                                                                                                                                                                                                                                                                                                                                                                                                                                                                                                                                                                                                                                                                                                                                                                                                                                                                                                                                                                                                                                                                                                                                                                                                                                                                                                                                                                                                                                                                                                                                                                                                                                                                                                                                                                                                                                                                                                                                                                                                                                                                                                                                                                                                                                                                                                                                                                                                                                                                                                                                                                                                                                                                                                                                                                                                                                                                                                                                                                                                                                                                                                                                                                                                                                                                                                                                                                                                                                                                                                                                                                                                                                                                                                                                                                                                                                                                                                                                                                                                                                                                                                                                                                                                                                                                                Please review the attached term sheet terms I need to send to them ASAP pushing to get closure by 1227 so TIME IS OF THE ESSENCE Thanks   \n",
       "339640                                                                                                                                                                                                                                                                                                                                                                                                                                                                                                                                                                                                                                                                                                                                                                                                                                                                                                                                                                                                                                                                                                                                                                                                                                                                                                                                                                                                                                                                                                                                                                                                                                                                                                                                                                                                                                                                                                                                                                                                                                                                                                                                                                                                                                                                                                                                                                                                                                                                                                                                                                                                                                                                                                                                                                                                                                                                                                                                                                                                                                                                                                                                                                              IMAGE Bargain Newsletter IMAGE BargainDog Info  Unsubscribe IMAGEIMAGE Patrice Todays BargainDog newsletter features great bargains from uBid CandleMart Textileshop and PrintPal IMAGE MonthSony Minidisc new wwarranty as low as 81 Desktops new wwarranty as low as 469 Become a uBid member today and win one of the 1000s of name brand products starting at just 9 Start bidding and winning today uBid IMAGE Save 50 on HeartE Melt the Heart of your Sweetheart A Great Gift for the one you love Hurry sale ends soon More great Buy 1 Get 1 Free offers available at Candlemartcom CandleMart IMAGE Starting at 199onsized towels and a huge bath sheet Add a touch of elegance to any bathroom with a unique woven band Choose from a variety of exciting colors that match any decor starting at 199 while supplies last Textileshop IMAGE Printer Cartridges  Laser Toners PrintPals normal prices save you up to 80 on inkjet cartridges  laser printer toners Now save even more with an additional 10 off coupon Free Priority shipping on all orders over 40 quality and selection PrintPal IMAGE Subscription Information IMAGE You are subscribed to BargainDog as  To unsubscribe please click here Please note that it may take a few days for your request to be processed This eBargainDog is not responsible for the offer presented by the advertiser and makes no guarantees in connection with the product or service BargainDog respects your privacy and is a member of TRUSTe To see our privacy policy click here For questions suggestions or comments regarding BargainDog please e IMAGE  "
      ]
     },
     "execution_count": 5,
     "metadata": {},
     "output_type": "execute_result"
    }
   ],
   "source": [
    "emails.sample(10)"
   ]
  },
  {
   "cell_type": "markdown",
   "metadata": {},
   "source": [
    "Для следующего задания вам нужно будет токенизировать текст. Для этого просто разбейте его по словам. Очевидно, итоговый результат будет лучше, если ваша система также будет предлагать уместную пунктуацию. Но если вы считаете, что результат получается лучше без нее, то можете удалить все небуквенные символы на этапе токенизации."
   ]
  },
  {
   "cell_type": "markdown",
   "metadata": {},
   "source": [
    "## Дополнение слова\n",
    "\n",
    "Описанная система будет состоять из двух частей: дополнение слова до целого и генерация продолжения текста (или вариантов продолжений). Начнем с первой части.\n",
    "\n",
    "В этой части вам предстоит реализовать метод дополнения слова до целого по его началу (префиксу). Для этого сперва необходимо научиться находить все слова, имеющие определенный префикс. Мы будем вызывать функцию поиска подходящих слов после каждой напечатанной пользователем буквы. Поэтому нам очень важно, чтобы поиск работал как можно быстрее. Простой перебор всех слов занимает $O(|V| \\cdot n)$ времени, где $|V|$ – размер словаря, а $n$ – длина префикса. Мы же напишем [префиксное дерево](https://ru.wikipedia.org/wiki/Префиксное_дерево), которое позволяет искать слова за $O(n + m)$, где $m$ – число подходящих слов."
   ]
  },
  {
   "cell_type": "markdown",
   "metadata": {},
   "source": [
    "__Задание 2 (1 балл).__ Допишите префиксное дерево для поиска слов по префиксу. Ваше дерево должно работать за $O(n + m)$ операции, в противном случае вы не получите баллов за это задание."
   ]
  },
  {
   "cell_type": "code",
   "execution_count": 6,
   "metadata": {},
   "outputs": [],
   "source": [
    "from typing import List\n",
    "\n",
    "class PrefixTreeNode:\n",
    "    def __init__(self):\n",
    "        # словарь с буквами, которые могут идти после данной вершины\n",
    "        self.children: dict[str, PrefixTreeNode] = {}\n",
    "        self.is_end_of_word = False\n",
    "\n",
    "class PrefixTree:\n",
    "    def __init__(self, vocabulary: List[str]):\n",
    "        \"\"\"\n",
    "        vocabulary: список всех уникальных токенов в корпусе\n",
    "        \"\"\"\n",
    "        self.root = PrefixTreeNode()\n",
    "        \n",
    "        for word in vocabulary:\n",
    "            self._insert(word)\n",
    "\n",
    "    def search_prefix(self, prefix) -> List[str]:\n",
    "        \"\"\"\n",
    "        Возвращает все слова, начинающиеся на prefix\n",
    "        prefix: str – префикс слова\n",
    "        \"\"\"\n",
    "\n",
    "        node = self._find_node(prefix)\n",
    "\n",
    "        if node is None:\n",
    "            return []\n",
    "        \n",
    "        words = []\n",
    "        self._find_words(node, prefix, words)\n",
    "        return words\n",
    "\n",
    "    def _insert(self, word: str):\n",
    "        node = self.root\n",
    "        for char in word:\n",
    "            if char not in node.children:\n",
    "                node.children[char] = PrefixTreeNode()\n",
    "            node = node.children[char]\n",
    "        node.is_end_of_word = True\n",
    "\n",
    "    def _find_node(self, prefix: str) -> PrefixTreeNode:\n",
    "        node = self.root\n",
    "        for char in prefix:\n",
    "            if char not in node.children:\n",
    "                return None\n",
    "            node = node.children[char]\n",
    "        return node\n",
    "\n",
    "    def _find_words(self, node: PrefixTreeNode, prefix: str, words: List[str]):\n",
    "        if node.is_end_of_word:\n",
    "            words.append(prefix)\n",
    "\n",
    "        for char, child_node in node.children.items():\n",
    "            self._find_words(child_node, prefix + char, words)"
   ]
  },
  {
   "cell_type": "code",
   "execution_count": 7,
   "metadata": {},
   "outputs": [],
   "source": [
    "vocabulary = ['aa', 'aaa', 'abb', 'bba', 'bbb', 'bcd']\n",
    "prefix_tree = PrefixTree(vocabulary)\n",
    "\n",
    "assert set(prefix_tree.search_prefix('a')) == set(['aa', 'aaa', 'abb'])\n",
    "assert set(prefix_tree.search_prefix('bb')) == set(['bba', 'bbb'])"
   ]
  },
  {
   "cell_type": "markdown",
   "metadata": {},
   "source": [
    "Теперь, когда у нас есть способ быстро находить все слова с определенным префиксом, нам нужно их упорядочить по вероятности, чтобы выбирать лучшее. Будем оценивать вероятность слова по частоте его встречаемости в корпусе.\n",
    "\n",
    "__Задание 3 (1 балл).__ Допишите класс `WordCompletor`, который формирует словарь и префиксное дерево, а так же умеет находить все возможные продолжения слова вместе с их вероятностями. В этом классе вы можете при необходимости дополнительно отфильтровать слова, например, удалив все самые редкие. Постарайтесь максимально оптимизировать ваш код."
   ]
  },
  {
   "cell_type": "code",
   "execution_count": 8,
   "metadata": {},
   "outputs": [],
   "source": [
    "import numpy as np\n",
    "\n",
    "class WordCompletor:\n",
    "    def __init__(self, corpus):\n",
    "        \"\"\"\n",
    "        corpus: list – корпус текстов\n",
    "        \"\"\"\n",
    "        words = pd.Series(corpus).explode().tolist()\n",
    "        self.probabilties = dict(zip(*np.unique(words, return_counts=True)))\n",
    "        self.total = sum([value for value in self.probabilties.values()])\n",
    "        self.prefix_tree = PrefixTree(words)\n",
    "\n",
    "    def get_words_and_probs(self, prefix: str) -> (List[str], List[float]):\n",
    "        \"\"\"\n",
    "        Возвращает список слов, начинающихся на prefix,\n",
    "        с их вероятностями (нормировать ничего не нужно)\n",
    "        \"\"\"\n",
    "\n",
    "        words = self.prefix_tree.search_prefix(prefix)\n",
    "        probs = [self.probabilties.get(word) / self.total for word in words if word in self.probabilties]\n",
    "        \n",
    "        return words, probs"
   ]
  },
  {
   "cell_type": "code",
   "execution_count": 9,
   "metadata": {},
   "outputs": [],
   "source": [
    "dummy_corpus = [\n",
    "    [\"aa\", \"ab\"],\n",
    "    [\"aaa\", \"abab\"],\n",
    "    [\"abb\", \"aa\", \"ab\", \"bba\", \"bbb\", \"bcd\"],\n",
    "]\n",
    "\n",
    "word_completor = WordCompletor(dummy_corpus)\n",
    "words, probs = word_completor.get_words_and_probs('a')\n",
    "words_probs = list(zip(words, probs))\n",
    "assert set(words_probs) == {('aa', 0.2), ('ab', 0.2), ('aaa', 0.1), ('abab', 0.1), ('abb', 0.1)}"
   ]
  },
  {
   "cell_type": "markdown",
   "metadata": {},
   "source": [
    "## Предсказание следующих слов\n",
    "\n",
    "Теперь, когда мы умеем дописывать слово за пользователем, мы можем пойти дальше и предожить ему несколько следующих слов с учетом дописанного. Для этого мы воспользуемся n-граммами и будем советовать n следующих слов. Но сперва нужно получить n-граммную модель.\n",
    "\n",
    "Напомним, что вероятность последовательности для такой модели записывается по формуле\n",
    "$$\n",
    "P(w_1, \\dots, w_T) = \\prod_{i=1}^T P(w_i \\mid w_{i-1}, \\dots, w_{i-n}).\n",
    "$$\n",
    "\n",
    "Тогда, нам нужно оценить $P(w_i \\mid w_{i-1}, \\dots, w_{i-n})$ по частоте встречаемости n-граммы.   \n",
    "\n",
    "__Задание 4 (1 балл).__ Напишите класс для n-граммной модели. Понятное дело, никакого сглаживания добавлять не надо, мы же не хотим, чтобы модель советовала случайные слова (хоть и очень редко)."
   ]
  },
  {
   "cell_type": "code",
   "execution_count": 10,
   "metadata": {},
   "outputs": [],
   "source": [
    "from collections import defaultdict\n",
    "\n",
    "class NGramLanguageModel:\n",
    "    def __init__(self, corpus, n):\n",
    "        self.n = n\n",
    "        self.ngrams = defaultdict(list)\n",
    "\n",
    "        self._initialize_model(corpus)\n",
    "\n",
    "    def _initialize_model(self, corpus):\n",
    "        for sentence in corpus:\n",
    "            sent_len = len(sentence)\n",
    "            for i in range(sent_len):\n",
    "                for j in range(1, sent_len - i + 1):\n",
    "                    prefix = tuple(sentence[i:i + j - 1])\n",
    "                    next_word = sentence[i + j - 1]\n",
    "                    self.ngrams[prefix].append(next_word)\n",
    "\n",
    "    def get_next_words_and_probs(self, prefix: List[str]) -> (List[str], List[float]):\n",
    "        \"\"\"\n",
    "        Возвращает список слов, которые могут идти после prefix, \n",
    "        а также список вероятностей этих слов.\n",
    "        \"\"\"\n",
    "        next_words = self.ngrams.get(tuple(prefix), [])\n",
    "        next_words_len = len(next_words)\n",
    "\n",
    "        words = [word for word in next_words]\n",
    "        probs = [next_words.count(word) / next_words_len for word in next_words]\n",
    "\n",
    "        return words, probs\n"
   ]
  },
  {
   "cell_type": "code",
   "execution_count": 11,
   "metadata": {},
   "outputs": [],
   "source": [
    "dummy_corpus = [\n",
    "    ['aa', 'aa', 'aa', 'aa', 'ab'],\n",
    "    ['aaa', 'abab'],\n",
    "    ['abb', 'aa', 'ab', 'bba', 'bbb', 'bcd']\n",
    "]\n",
    "\n",
    "n_gram_model = NGramLanguageModel(corpus=dummy_corpus, n=2)\n",
    "\n",
    "next_words, probs = n_gram_model.get_next_words_and_probs(['aa', 'aa'])\n",
    "words_probs = list(zip(next_words, probs))\n",
    "\n",
    "assert set(words_probs) == {('aa', 2/3), ('ab', 1/3)}"
   ]
  },
  {
   "cell_type": "markdown",
   "metadata": {},
   "source": [
    "Отлично, мы теперь можем объединить два метода в автоматический дописыватель текстов: первый будет дополнять слово, а второй – предлагать продолжения. Хочется, чтобы предлагался список возможных продолжений, из который пользователь сможет выбрать наиболее подходящее. Самое сложное тут – аккуратно выбирать, что показывать, а что нет.   \n",
    "\n",
    "__Задание 5 (1 балл).__ В качестве первого подхода к снаряду реализуйте метод, возвращающий всегда самое вероятное продолжение жадным способом. Если вы справитесь, то сможете можете добавить опцию поддержки нескольких вариантов продолжений, что сделает метод гораздо лучше."
   ]
  },
  {
   "cell_type": "code",
   "execution_count": 12,
   "metadata": {},
   "outputs": [],
   "source": [
    "from typing import Union\n",
    "\n",
    "class TextSuggestion:\n",
    "    def __init__(self, word_completor, n_gram_model):\n",
    "        self.word_completor = word_completor\n",
    "        self.n_gram_model = n_gram_model\n",
    "\n",
    "    def suggest_text(self, text: Union[str, list], n_words=3, n_texts=1) -> list[list[str]]:\n",
    "        \"\"\"\n",
    "        Возвращает возможные варианты продолжения текста (по умолчанию только один)\n",
    "        \n",
    "        text: строка или список слов – написанный пользователем текст\n",
    "        n_words: число слов, которые дописывает n-граммная модель\n",
    "        n_texts: число возвращаемых продолжений (пока что только одно)\n",
    "        \n",
    "        return: list[list[srt]] – список из n_texts списков слов, по 1 + n_words слов в каждом\n",
    "        Первое слово – это то, которое WordCompletor дополнил до целого.\n",
    "        \"\"\"\n",
    "\n",
    "        words = text.strip().split() if isinstance(text, str) else text[:]\n",
    "        if not words:\n",
    "            return []\n",
    "\n",
    "        # Завершаем последнее слово, если оно неполное\n",
    "        last_word = words[-1]\n",
    "        completions, probs = self.word_completor.get_words_and_probs(last_word)\n",
    "        completed_word = max(zip(completions, probs), key=lambda x: x[1], default=(last_word, 0))[0]\n",
    "\n",
    "        # Обновляем список слов\n",
    "        full_words = words[:-1] + [completed_word]\n",
    "        context = full_words[-(self.n_gram_model.n - 1):]\n",
    "\n",
    "        # Генерация продолжений\n",
    "        suggestion = [completed_word]\n",
    "        for _ in range(n_words):\n",
    "            next_words, next_probs = self.n_gram_model.get_next_words_and_probs(context)\n",
    "            if not next_words:\n",
    "                break\n",
    "            next_word = max(zip(next_words, next_probs), key=lambda x: x[1])[0]\n",
    "            suggestion.append(next_word)\n",
    "            context = context[1:] + [next_word]  # Обновляем контекст\n",
    "\n",
    "        return [suggestion]  # Возвращаем только один вариант продолжения"
   ]
  },
  {
   "cell_type": "code",
   "execution_count": 13,
   "metadata": {},
   "outputs": [],
   "source": [
    "dummy_corpus = [\n",
    "    ['aa', 'aa', 'aa', 'aa', 'ab'],\n",
    "    ['aaa', 'abab'],\n",
    "    ['abb', 'aa', 'ab', 'bba', 'bbb', 'bcd']\n",
    "]\n",
    "\n",
    "word_completor = WordCompletor(dummy_corpus)\n",
    "n_gram_model = NGramLanguageModel(corpus=dummy_corpus, n=2)\n",
    "text_suggestion = TextSuggestion(word_completor, n_gram_model)\n",
    "\n",
    "assert text_suggestion.suggest_text(['aa', 'aa'], n_words=3, n_texts=1) == [['aa', 'aa', 'aa', 'aa']]\n",
    "assert text_suggestion.suggest_text(['abb', 'aa', 'ab'], n_words=2, n_texts=1) == [['ab', 'bba', 'bbb']]"
   ]
  },
  {
   "cell_type": "code",
   "execution_count": 14,
   "metadata": {},
   "outputs": [],
   "source": [
    "text_suggestion = TextSuggestion(word_completor, n_gram_model)"
   ]
  },
  {
   "cell_type": "code",
   "execution_count": 22,
   "metadata": {},
   "outputs": [],
   "source": [
    "emails.sample(100)['message'].astype(str).to_csv(\"handler_emails_100.csv\")"
   ]
  },
  {
   "cell_type": "markdown",
   "metadata": {},
   "source": [
    "## Часть 2"
   ]
  },
  {
   "cell_type": "markdown",
   "metadata": {},
   "source": [
    "Настало время довести вашу систему до ума. В этой части вы можете модифицировать все классы по своему усмотрению и добавлять любые эвристики. Если нужно, то дополнительно обрабатывать текст и вообще делать все, что считаете нужным, __кроме использования дополнительных данных__. Главное – вы должны обернуть вашу систему в пользовательский интерфейс с помощью [reflex](https://github.com/reflex-dev/reflex). В нем можно реализовать почти любой функционал по вашему желанию.\n",
    "\n",
    "Мы настоятельно рекомендуем вам оформить код в проект, а не писать в ноутбуке. Но если вам очень хочется писать тут, то хотя бы не меняйте код в предыдущих заданиях, чтобы его можно было нормально оценивать.\n",
    "\n",
    "При сдаче решения прикрепите весь ваш __код__, __отчет__ по второй части и __видео__ с демонстрацией работы вашей системы. Удачи!"
   ]
  },
  {
   "cell_type": "code",
   "execution_count": null,
   "metadata": {},
   "outputs": [],
   "source": []
  }
 ],
 "metadata": {
  "kernelspec": {
   "display_name": ".venv310",
   "language": "python",
   "name": "python3"
  },
  "language_info": {
   "codemirror_mode": {
    "name": "ipython",
    "version": 3
   },
   "file_extension": ".py",
   "mimetype": "text/x-python",
   "name": "python",
   "nbconvert_exporter": "python",
   "pygments_lexer": "ipython3",
   "version": "3.10.15"
  },
  "notebookId": "53997d2d-afb8-4477-8874-b6d46299f06c",
  "notebookPath": "seminar.ipynb"
 },
 "nbformat": 4,
 "nbformat_minor": 4
}
